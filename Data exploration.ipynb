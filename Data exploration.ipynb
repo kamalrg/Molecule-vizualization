{
 "cells": [
  {
   "cell_type": "code",
   "execution_count": 3,
   "id": "bb387730",
   "metadata": {},
   "outputs": [],
   "source": [
    "import numpy as np\n",
    "import pandas as pd\n",
    "from typing import List\n",
    "import struct\n",
    "from array import array"
   ]
  },
  {
   "cell_type": "markdown",
   "id": "8226ca06",
   "metadata": {},
   "source": [
    "# reading the sizes file, unpacking byte by byte as uint8 by using struct"
   ]
  },
  {
   "cell_type": "code",
   "execution_count": 4,
   "id": "7877c1d0",
   "metadata": {},
   "outputs": [],
   "source": [
    "#verifying the atomids by using the helper function from part 1\n",
    "def get_el_sym(atom_ids:np.ndarray) -> List[str]:\n",
    "    \"\"\"Helper method which turns atom_ids into element symbols.\"\"\"\n",
    "    elmap = \"H B C N O F Na Si P S Cl K Se Br I X\".split(\" \")\n",
    "    return [elmap[id] for id in atom_ids]"
   ]
  },
  {
   "cell_type": "code",
   "execution_count": 5,
   "id": "efe4d29c",
   "metadata": {},
   "outputs": [],
   "source": [
    "def get_coordinate_for_molecule(mol_index, size, coordinates):\n",
    "        \n",
    "    if mol_index ==1:\n",
    "        return coordinates[:size[1]]\n",
    "    else:\n",
    "        starting_element = 0\n",
    "        ending_ele = 0\n",
    "        for i in range(mol_index):\n",
    "            starting_element +=size[i]\n",
    "\n",
    "        ending_ele = size[mol_index]+starting_element\n",
    "\n",
    "        return coordinates[starting_element:ending_ele]"
   ]
  },
  {
   "cell_type": "code",
   "execution_count": 6,
   "id": "97dd4342",
   "metadata": {},
   "outputs": [],
   "source": [
    "def read_files(working_dir, mol_index):\n",
    "    file_name = fif(mol_index)\n",
    "    \n",
    "    with open(working_dir +f\"moldata-{file_name}-sizes.dat\", \"rb\") as size_file:\n",
    "        size = size_file.read()\n",
    "    with open(working_dir +f\"moldata-{file_name}-atomids.dat\", \"rb\") as binary_file:\n",
    "        atom_id = binary_file.read()\n",
    "        atom_ids = struct.unpack(\"b\" * len(atom_id), atom_id)\n",
    "    with open(working_dir +f\"moldata-{file_name}-energies.dat\", \"rb\") as energy_file:\n",
    "        energies = energy_file.read()\n",
    "        energy = struct.unpack(\"f\" * ((len(energies)) // 4), energies)\n",
    "    coordinates = []\n",
    "    with open(working_dir +f\"moldata-{file_name}-coords.dat\", \"rb\") as coordinates_file:\n",
    "        while True:\n",
    "            coord = coordinates_file.read(12) #reading 12 bytes at a time to extract the starting 3 coordinate of 1 atom\n",
    "            if not coord: break\n",
    "            coord = struct.unpack('f'*3, coord)\n",
    "            coordinates.append(coord)\n",
    "            \n",
    "    return size, atom_ids, energy, coordinates\n",
    "     "
   ]
  },
  {
   "cell_type": "code",
   "execution_count": 7,
   "id": "26f4c44a",
   "metadata": {},
   "outputs": [],
   "source": [
    "def get_atom_ids(mol_index,size, atom_ids):\n",
    "\n",
    "   \n",
    "    if mol_index == 1:\n",
    "        return atom_ids[:size[1]]\n",
    "    \n",
    "    else:\n",
    "        starting_element = 0\n",
    "        ending_ele = 0\n",
    "        for i in range(mol_index):\n",
    "            starting_element +=size[i]\n",
    "\n",
    "        ending_ele = size[mol_index]+starting_element\n",
    "\n",
    "    return atom_ids[starting_element:ending_ele]    \n",
    "  "
   ]
  },
  {
   "cell_type": "code",
   "execution_count": 16,
   "id": "d5b52fab",
   "metadata": {},
   "outputs": [],
   "source": [
    "size_1, atom_ids_1 ,energy_1 , coordinates_1 = read_files(r\"C:\\Users\\Kamal Maurya\\Downloads\\Halion Take-Home Coding Assignment V2\\\\\", 0)"
   ]
  },
  {
   "cell_type": "code",
   "execution_count": 11,
   "id": "495dcbd9",
   "metadata": {},
   "outputs": [],
   "source": [
    "def fif(mol_index):\n",
    "    file_name = 0\n",
    "    if mol_index <=65536:\n",
    "        file_name = 0\n",
    "    elif mol_index >= 65536 and mol_index <= 131072:\n",
    "        file_name = 1\n",
    "    else:\n",
    "        file_name = 2\n",
    "    \n",
    "    return file_name"
   ]
  },
  {
   "cell_type": "code",
   "execution_count": 14,
   "id": "df4ebd6a",
   "metadata": {},
   "outputs": [],
   "source": [
    "def read_molecule(working_dir: str, mol_index: int) -> tuple[float, np.ndarray, np.ndarray]:\n",
    "    \n",
    "    #getting the molecule size\n",
    "    \n",
    "    size, all_atom_ids, all_energies, coordinates = read_files(working_dir, mol_index)\n",
    "    file_name = fif(mol_index)\n",
    "    \n",
    "    if file_name == 0 :\n",
    "        mol_index = mol_index \n",
    "    elif file_name == 1:\n",
    "        mol_index -= 65536\n",
    "    else:\n",
    "        mol_index -= 131072\n",
    "        \n",
    "    coords = np.array(get_coordinate_for_molecule(mol_index, size, coordinates))\n",
    "    atom_ids = np.array(get_atom_ids(mol_index, size, all_atom_ids))\n",
    "    energy = all_energies[mol_index]\n",
    "    \n",
    "\n",
    "    return (energy, coords, atom_ids)"
   ]
  },
  {
   "cell_type": "code",
   "execution_count": 15,
   "id": "58df4078",
   "metadata": {},
   "outputs": [],
   "source": [
    "molecule_1 = read_molecule(r\"C:\\Users\\Kamal Maurya\\Downloads\\Halion Take-Home Coding Assignment V2\\\\\", 196607)"
   ]
  },
  {
   "cell_type": "code",
   "execution_count": null,
   "id": "540bc69f",
   "metadata": {},
   "outputs": [],
   "source": [
    "molecule_2 = read_molecule(r\"C:\\Users\\Kamal Maurya\\Downloads\\Halion Take-Home Coding Assignment V2\\\\\", 3)"
   ]
  },
  {
   "cell_type": "code",
   "execution_count": 18,
   "id": "74673230",
   "metadata": {},
   "outputs": [
    {
     "data": {
      "text/plain": [
       "48"
      ]
     },
     "execution_count": 18,
     "metadata": {},
     "output_type": "execute_result"
    }
   ],
   "source": [
    "size_1[0]"
   ]
  },
  {
   "cell_type": "code",
   "execution_count": 24,
   "id": "458f9372",
   "metadata": {},
   "outputs": [
    {
     "data": {
      "text/plain": [
       "[(2.5634765625, 4.06494140625, 0.92529296875),\n",
       " (2.28271484375, 3.10791015625, -0.2294921875),\n",
       " (2.20458984375, 1.6552734375, 0.25390625),\n",
       " (1.9384765625, 0.6884765625, -0.908203125),\n",
       " (1.99951171875, -0.7373046875, -0.44921875),\n",
       " (3.23486328125, -1.435546875, -0.3515625),\n",
       " (4.541015625, -0.80322265625, -0.703125),\n",
       " (3.3056640625, -2.72216796875, 0.07568359375),\n",
       " (2.1142578125, -3.34228515625, 0.4248046875),\n",
       " (2.1826171875, -4.6435546875, 0.8740234375),\n",
       " (0.87158203125, -2.74169921875, 0.3564453125),\n",
       " (0.83984375, -1.4453125, -0.08056640625),\n",
       " (-0.46142578125, -0.79345703125, -0.16845703125),\n",
       " (-1.0400390625, -0.56396484375, 1.19873046875),\n",
       " (-2.32421875, 0.2685546875, 1.06689453125),\n",
       " (-3.32763671875, -0.44921875, 0.14404296875),\n",
       " (-4.5458984375, 0.380859375, -0.02685546875),\n",
       " (-4.6435546875, 1.67724609375, -0.57373046875),\n",
       " (-5.947265625, 2.05810546875, -0.54443359375),\n",
       " (-6.6845703125, 1.07177734375, -0.0048828125),\n",
       " (-5.869140625, 0.03173828125, 0.322265625),\n",
       " (-2.6904296875, -0.73486328125, -1.23046875),\n",
       " (-1.40625, -1.5576171875, -1.05224609375),\n",
       " (2.62451171875, 5.1025390625, 0.57861328125),\n",
       " (1.77734375, 4.02099609375, 1.68701171875),\n",
       " (3.51318359375, 3.83056640625, 1.4208984375),\n",
       " (1.33544921875, 3.39111328125, -0.7275390625),\n",
       " (3.0712890625, 3.21044921875, -1.0009765625),\n",
       " (3.14208984375, 1.37939453125, 0.771484375),\n",
       " (1.4013671875, 1.55029296875, 1.0107421875),\n",
       " (0.93994140625, 0.9033203125, -1.3525390625),\n",
       " (2.66845703125, 0.85693359375, -1.728515625),\n",
       " (4.970703125, -0.29052734375, 0.17333984375),\n",
       " (5.28564453125, -1.55029296875, -1.025390625),\n",
       " (4.44091796875, -0.05859375, -1.50634765625),\n",
       " (3.0712890625, -5.1123046875, 0.9326171875),\n",
       " (1.34765625, -5.13671875, 1.14013671875),\n",
       " (-1.24267578125, -1.51611328125, 1.74072265625),\n",
       " (-0.2880859375, -0.00244140625, 1.79931640625),\n",
       " (-2.76611328125, 0.4443359375, 2.0654296875),\n",
       " (-2.0703125, 1.27197265625, 0.66162109375),\n",
       " (-3.64013671875, -1.41845703125, 0.61767578125),\n",
       " (-3.81103515625, 2.24853515625, -0.94970703125),\n",
       " (-6.15966796875, -0.90087890625, 0.771484375),\n",
       " (-3.3984375, -1.27685546875, -1.88720703125),\n",
       " (-2.451171875, 0.21484375, -1.7529296875),\n",
       " (-0.91064453125, -1.70166015625, -2.03857421875),\n",
       " (-1.63818359375, -2.5732421875, -0.65673828125)]"
      ]
     },
     "execution_count": 24,
     "metadata": {},
     "output_type": "execute_result"
    }
   ],
   "source": [
    "coordinates_1[48: 48+size_1[1]]"
   ]
  },
  {
   "cell_type": "code",
   "execution_count": 34,
   "id": "6e711340",
   "metadata": {},
   "outputs": [
    {
     "data": {
      "text/plain": [
       "array([[ 2.56347656e+00,  4.06494141e+00,  9.25292969e-01],\n",
       "       [ 2.28271484e+00,  3.10791016e+00, -2.29492188e-01],\n",
       "       [ 2.20458984e+00,  1.65527344e+00,  2.53906250e-01],\n",
       "       [ 1.93847656e+00,  6.88476562e-01, -9.08203125e-01],\n",
       "       [ 1.99951172e+00, -7.37304688e-01, -4.49218750e-01],\n",
       "       [ 3.23486328e+00, -1.43554688e+00, -3.51562500e-01],\n",
       "       [ 4.54101562e+00, -8.03222656e-01, -7.03125000e-01],\n",
       "       [ 3.30566406e+00, -2.72216797e+00,  7.56835938e-02],\n",
       "       [ 2.11425781e+00, -3.34228516e+00,  4.24804688e-01],\n",
       "       [ 2.18261719e+00, -4.64355469e+00,  8.74023438e-01],\n",
       "       [ 8.71582031e-01, -2.74169922e+00,  3.56445312e-01],\n",
       "       [ 8.39843750e-01, -1.44531250e+00, -8.05664062e-02],\n",
       "       [-4.61425781e-01, -7.93457031e-01, -1.68457031e-01],\n",
       "       [-1.04003906e+00, -5.63964844e-01,  1.19873047e+00],\n",
       "       [-2.32421875e+00,  2.68554688e-01,  1.06689453e+00],\n",
       "       [-3.32763672e+00, -4.49218750e-01,  1.44042969e-01],\n",
       "       [-4.54589844e+00,  3.80859375e-01, -2.68554688e-02],\n",
       "       [-4.64355469e+00,  1.67724609e+00, -5.73730469e-01],\n",
       "       [-5.94726562e+00,  2.05810547e+00, -5.44433594e-01],\n",
       "       [-6.68457031e+00,  1.07177734e+00, -4.88281250e-03],\n",
       "       [-5.86914062e+00,  3.17382812e-02,  3.22265625e-01],\n",
       "       [-2.69042969e+00, -7.34863281e-01, -1.23046875e+00],\n",
       "       [-1.40625000e+00, -1.55761719e+00, -1.05224609e+00],\n",
       "       [ 2.62451172e+00,  5.10253906e+00,  5.78613281e-01],\n",
       "       [ 1.77734375e+00,  4.02099609e+00,  1.68701172e+00],\n",
       "       [ 3.51318359e+00,  3.83056641e+00,  1.42089844e+00],\n",
       "       [ 1.33544922e+00,  3.39111328e+00, -7.27539062e-01],\n",
       "       [ 3.07128906e+00,  3.21044922e+00, -1.00097656e+00],\n",
       "       [ 3.14208984e+00,  1.37939453e+00,  7.71484375e-01],\n",
       "       [ 1.40136719e+00,  1.55029297e+00,  1.01074219e+00],\n",
       "       [ 9.39941406e-01,  9.03320312e-01, -1.35253906e+00],\n",
       "       [ 2.66845703e+00,  8.56933594e-01, -1.72851562e+00],\n",
       "       [ 4.97070312e+00, -2.90527344e-01,  1.73339844e-01],\n",
       "       [ 5.28564453e+00, -1.55029297e+00, -1.02539062e+00],\n",
       "       [ 4.44091797e+00, -5.85937500e-02, -1.50634766e+00],\n",
       "       [ 3.07128906e+00, -5.11230469e+00,  9.32617188e-01],\n",
       "       [ 1.34765625e+00, -5.13671875e+00,  1.14013672e+00],\n",
       "       [-1.24267578e+00, -1.51611328e+00,  1.74072266e+00],\n",
       "       [-2.88085938e-01, -2.44140625e-03,  1.79931641e+00],\n",
       "       [-2.76611328e+00,  4.44335938e-01,  2.06542969e+00],\n",
       "       [-2.07031250e+00,  1.27197266e+00,  6.61621094e-01],\n",
       "       [-3.64013672e+00, -1.41845703e+00,  6.17675781e-01],\n",
       "       [-3.81103516e+00,  2.24853516e+00, -9.49707031e-01],\n",
       "       [-6.15966797e+00, -9.00878906e-01,  7.71484375e-01],\n",
       "       [-3.39843750e+00, -1.27685547e+00, -1.88720703e+00],\n",
       "       [-2.45117188e+00,  2.14843750e-01, -1.75292969e+00],\n",
       "       [-9.10644531e-01, -1.70166016e+00, -2.03857422e+00],\n",
       "       [-1.63818359e+00, -2.57324219e+00, -6.56738281e-01]])"
      ]
     },
     "execution_count": 34,
     "metadata": {},
     "output_type": "execute_result"
    }
   ],
   "source": [
    "molecule_1[1]"
   ]
  },
  {
   "cell_type": "code",
   "execution_count": null,
   "id": "bd672098",
   "metadata": {},
   "outputs": [],
   "source": []
  },
  {
   "cell_type": "code",
   "execution_count": null,
   "id": "28e7d313",
   "metadata": {},
   "outputs": [],
   "source": []
  },
  {
   "cell_type": "code",
   "execution_count": 25,
   "id": "d20814ca",
   "metadata": {},
   "outputs": [],
   "source": [
    "def uniform_random_rotation(x):\n",
    "    def generate_random_z_axis_rotation():\n",
    "        \"\"\"Generate random rotation matrix about the z axis.\"\"\"\n",
    "        R = np.eye(3)\n",
    "        x1 = np.random.rand()\n",
    "        R[0, 0] = R[1, 1] = np.cos(2 * np.pi * x1)\n",
    "        R[0, 1] = -np.sin(2 * np.pi * x1)\n",
    "        R[1, 0] = np.sin(2 * np.pi * x1)\n",
    "        return R\n",
    "    # There are two random variables in [0, 1) here (naming is same as paper)\n",
    "    x2 = 2 * np.pi * np.random.rand()\n",
    "    x3 = np.random.rand()\n",
    "    # Rotation of all points around x axis using matrix\n",
    "    R = generate_random_z_axis_rotation()\n",
    "    v = np.array([\n",
    "        np.cos(x2) * np.sqrt(x3),\n",
    "        np.sin(x2) * np.sqrt(x3),\n",
    "        np.sqrt(1 - x3)\n",
    "    ])\n",
    "    H = np.eye(3) - (2 * np.outer(v, v))\n",
    "    M = -(H @ R)\n",
    "    x = x.reshape((-1, 3))\n",
    "    mean_coord = np.mean(x, axis=0)\n",
    "    return ((x - mean_coord) @ M) + mean_coord @ M"
   ]
  },
  {
   "cell_type": "code",
   "execution_count": 35,
   "id": "08ca4b56",
   "metadata": {},
   "outputs": [],
   "source": [
    "rotate = uniform_random_rotation(molecule_1[1])"
   ]
  },
  {
   "cell_type": "code",
   "execution_count": 29,
   "id": "70a4e494",
   "metadata": {},
   "outputs": [
    {
     "data": {
      "text/plain": [
       "array([[ 2.56347656e+00,  4.06494141e+00,  9.25292969e-01],\n",
       "       [ 2.28271484e+00,  3.10791016e+00, -2.29492188e-01],\n",
       "       [ 2.20458984e+00,  1.65527344e+00,  2.53906250e-01],\n",
       "       [ 1.93847656e+00,  6.88476562e-01, -9.08203125e-01],\n",
       "       [ 1.99951172e+00, -7.37304688e-01, -4.49218750e-01],\n",
       "       [ 3.23486328e+00, -1.43554688e+00, -3.51562500e-01],\n",
       "       [ 4.54101562e+00, -8.03222656e-01, -7.03125000e-01],\n",
       "       [ 3.30566406e+00, -2.72216797e+00,  7.56835938e-02],\n",
       "       [ 2.11425781e+00, -3.34228516e+00,  4.24804688e-01],\n",
       "       [ 2.18261719e+00, -4.64355469e+00,  8.74023438e-01],\n",
       "       [ 8.71582031e-01, -2.74169922e+00,  3.56445312e-01],\n",
       "       [ 8.39843750e-01, -1.44531250e+00, -8.05664062e-02],\n",
       "       [-4.61425781e-01, -7.93457031e-01, -1.68457031e-01],\n",
       "       [-1.04003906e+00, -5.63964844e-01,  1.19873047e+00],\n",
       "       [-2.32421875e+00,  2.68554688e-01,  1.06689453e+00],\n",
       "       [-3.32763672e+00, -4.49218750e-01,  1.44042969e-01],\n",
       "       [-4.54589844e+00,  3.80859375e-01, -2.68554688e-02],\n",
       "       [-4.64355469e+00,  1.67724609e+00, -5.73730469e-01],\n",
       "       [-5.94726562e+00,  2.05810547e+00, -5.44433594e-01],\n",
       "       [-6.68457031e+00,  1.07177734e+00, -4.88281250e-03],\n",
       "       [-5.86914062e+00,  3.17382812e-02,  3.22265625e-01],\n",
       "       [-2.69042969e+00, -7.34863281e-01, -1.23046875e+00],\n",
       "       [-1.40625000e+00, -1.55761719e+00, -1.05224609e+00],\n",
       "       [ 2.62451172e+00,  5.10253906e+00,  5.78613281e-01],\n",
       "       [ 1.77734375e+00,  4.02099609e+00,  1.68701172e+00],\n",
       "       [ 3.51318359e+00,  3.83056641e+00,  1.42089844e+00],\n",
       "       [ 1.33544922e+00,  3.39111328e+00, -7.27539062e-01],\n",
       "       [ 3.07128906e+00,  3.21044922e+00, -1.00097656e+00],\n",
       "       [ 3.14208984e+00,  1.37939453e+00,  7.71484375e-01],\n",
       "       [ 1.40136719e+00,  1.55029297e+00,  1.01074219e+00],\n",
       "       [ 9.39941406e-01,  9.03320312e-01, -1.35253906e+00],\n",
       "       [ 2.66845703e+00,  8.56933594e-01, -1.72851562e+00],\n",
       "       [ 4.97070312e+00, -2.90527344e-01,  1.73339844e-01],\n",
       "       [ 5.28564453e+00, -1.55029297e+00, -1.02539062e+00],\n",
       "       [ 4.44091797e+00, -5.85937500e-02, -1.50634766e+00],\n",
       "       [ 3.07128906e+00, -5.11230469e+00,  9.32617188e-01],\n",
       "       [ 1.34765625e+00, -5.13671875e+00,  1.14013672e+00],\n",
       "       [-1.24267578e+00, -1.51611328e+00,  1.74072266e+00],\n",
       "       [-2.88085938e-01, -2.44140625e-03,  1.79931641e+00],\n",
       "       [-2.76611328e+00,  4.44335938e-01,  2.06542969e+00],\n",
       "       [-2.07031250e+00,  1.27197266e+00,  6.61621094e-01],\n",
       "       [-3.64013672e+00, -1.41845703e+00,  6.17675781e-01],\n",
       "       [-3.81103516e+00,  2.24853516e+00, -9.49707031e-01],\n",
       "       [-6.15966797e+00, -9.00878906e-01,  7.71484375e-01],\n",
       "       [-3.39843750e+00, -1.27685547e+00, -1.88720703e+00],\n",
       "       [-2.45117188e+00,  2.14843750e-01, -1.75292969e+00],\n",
       "       [-9.10644531e-01, -1.70166016e+00, -2.03857422e+00],\n",
       "       [-1.63818359e+00, -2.57324219e+00, -6.56738281e-01]])"
      ]
     },
     "execution_count": 29,
     "metadata": {},
     "output_type": "execute_result"
    }
   ],
   "source": [
    "molecule_1[1]"
   ]
  },
  {
   "cell_type": "code",
   "execution_count": 36,
   "id": "d7324b8b",
   "metadata": {},
   "outputs": [
    {
     "data": {
      "text/plain": [
       "array([[-1.06979759e+00, -2.32259839e+00, -4.17281651e+00],\n",
       "       [ 7.06950002e-02, -1.52347097e+00, -3.54916859e+00],\n",
       "       [-4.58434937e-01, -3.57100952e-01, -2.70683048e+00],\n",
       "       [ 6.87092447e-01,  4.58443324e-01, -2.09147268e+00],\n",
       "       [ 1.65929206e-01,  1.67318292e+00, -1.38433711e+00],\n",
       "       [-1.13473833e-01,  2.87939093e+00, -2.08445750e+00],\n",
       "       [ 9.82693009e-02,  3.01749840e+00, -3.55604005e+00],\n",
       "       [-5.98676121e-01,  3.98209746e+00, -1.45870767e+00],\n",
       "       [-8.21794829e-01,  3.89070620e+00, -9.20528467e-02],\n",
       "       [-1.32907713e+00,  5.00267480e+00,  5.45099702e-01],\n",
       "       [-5.74532532e-01,  2.76219438e+00,  6.66196448e-01],\n",
       "       [-8.41151471e-02,  1.67143055e+00,  1.11738965e-03],\n",
       "       [ 1.91915304e-01,  4.71517551e-01,  7.82115911e-01],\n",
       "       [-1.08193974e+00, -1.48006496e-01,  1.28226082e+00],\n",
       "       [-7.57055287e-01, -1.49090527e+00,  1.95357291e+00],\n",
       "       [ 2.53373059e-01, -1.27985388e+00,  3.09733565e+00],\n",
       "       [ 6.08668955e-01, -2.58406707e+00,  3.70986350e+00],\n",
       "       [ 1.21621334e+00, -3.69679407e+00,  3.09183763e+00],\n",
       "       [ 1.36524652e+00, -4.67573869e+00,  4.02190802e+00],\n",
       "       [ 8.81727791e-01, -4.24444683e+00,  5.19994596e+00],\n",
       "       [ 4.13103452e-01, -2.97463420e+00,  5.05297646e+00],\n",
       "       [ 1.52488284e+00, -5.82082263e-01,  2.57456829e+00],\n",
       "       [ 1.15441353e+00,  7.47842610e-01,  1.90236512e+00],\n",
       "       [-6.91116445e-01, -3.15298399e+00, -4.77910138e+00],\n",
       "       [-1.72878725e+00, -2.74999713e+00, -3.40913176e+00],\n",
       "       [-1.68907412e+00, -1.69734836e+00, -4.82707857e+00],\n",
       "       [ 6.94092468e-01, -2.18937363e+00, -2.92185998e+00],\n",
       "       [ 7.41467477e-01, -1.14442700e+00, -4.34537312e+00],\n",
       "       [-1.09967736e+00,  2.95717643e-01, -3.32774800e+00],\n",
       "       [-1.11296066e+00, -7.39878868e-01, -1.89808743e+00],\n",
       "       [ 1.26082448e+00, -1.79253343e-01, -1.38095228e+00],\n",
       "       [ 1.41627820e+00,  7.56330089e-01, -2.87487134e+00],\n",
       "       [-8.03108049e-01,  2.70282698e+00, -4.10756451e+00],\n",
       "       [ 2.94296982e-01,  4.06324890e+00, -3.84659200e+00],\n",
       "       [ 9.37595548e-01,  2.40450670e+00, -3.91580528e+00],\n",
       "       [-1.51713715e+00,  5.84260153e+00,  2.35117246e-02],\n",
       "       [-1.50910511e+00,  4.98703028e+00,  1.53430747e+00],\n",
       "       [-1.63309374e+00,  5.19181221e-01,  1.98403973e+00],\n",
       "       [-1.74797118e+00, -3.17612211e-01,  4.05287858e-01],\n",
       "       [-1.68468421e+00, -1.96001199e+00,  2.33131057e+00],\n",
       "       [-3.45721439e-01, -2.19025299e+00,  1.19378360e+00],\n",
       "       [-2.17025349e-01, -6.45797068e-01,  3.89615005e+00],\n",
       "       [ 1.50866702e+00, -3.73894736e+00,  2.05573325e+00],\n",
       "       [-3.43260163e-02, -2.35884451e+00,  5.81231062e+00],\n",
       "       [ 2.24190777e+00, -4.01976319e-01,  3.39905168e+00],\n",
       "       [ 2.05201124e+00, -1.23088933e+00,  1.84426820e+00],\n",
       "       [ 2.06455180e+00,  1.21506509e+00,  1.46353964e+00],\n",
       "       [ 7.49521960e-01,  1.46959054e+00,  2.64859330e+00]])"
      ]
     },
     "execution_count": 36,
     "metadata": {},
     "output_type": "execute_result"
    }
   ],
   "source": [
    "rotate"
   ]
  },
  {
   "cell_type": "code",
   "execution_count": 33,
   "id": "06fcb303",
   "metadata": {},
   "outputs": [
    {
     "data": {
      "text/plain": [
       "(50.49803924560547,\n",
       " array([[ 2.56347656e+00,  4.06494141e+00,  9.25292969e-01],\n",
       "        [ 2.28271484e+00,  3.10791016e+00, -2.29492188e-01],\n",
       "        [ 2.20458984e+00,  1.65527344e+00,  2.53906250e-01],\n",
       "        [ 1.93847656e+00,  6.88476562e-01, -9.08203125e-01],\n",
       "        [ 1.99951172e+00, -7.37304688e-01, -4.49218750e-01],\n",
       "        [ 3.23486328e+00, -1.43554688e+00, -3.51562500e-01],\n",
       "        [ 4.54101562e+00, -8.03222656e-01, -7.03125000e-01],\n",
       "        [ 3.30566406e+00, -2.72216797e+00,  7.56835938e-02],\n",
       "        [ 2.11425781e+00, -3.34228516e+00,  4.24804688e-01],\n",
       "        [ 2.18261719e+00, -4.64355469e+00,  8.74023438e-01],\n",
       "        [ 8.71582031e-01, -2.74169922e+00,  3.56445312e-01],\n",
       "        [ 8.39843750e-01, -1.44531250e+00, -8.05664062e-02],\n",
       "        [-4.61425781e-01, -7.93457031e-01, -1.68457031e-01],\n",
       "        [-1.04003906e+00, -5.63964844e-01,  1.19873047e+00],\n",
       "        [-2.32421875e+00,  2.68554688e-01,  1.06689453e+00],\n",
       "        [-3.32763672e+00, -4.49218750e-01,  1.44042969e-01],\n",
       "        [-4.54589844e+00,  3.80859375e-01, -2.68554688e-02],\n",
       "        [-4.64355469e+00,  1.67724609e+00, -5.73730469e-01],\n",
       "        [-5.94726562e+00,  2.05810547e+00, -5.44433594e-01],\n",
       "        [-6.68457031e+00,  1.07177734e+00, -4.88281250e-03],\n",
       "        [-5.86914062e+00,  3.17382812e-02,  3.22265625e-01],\n",
       "        [-2.69042969e+00, -7.34863281e-01, -1.23046875e+00],\n",
       "        [-1.40625000e+00, -1.55761719e+00, -1.05224609e+00],\n",
       "        [ 2.62451172e+00,  5.10253906e+00,  5.78613281e-01],\n",
       "        [ 1.77734375e+00,  4.02099609e+00,  1.68701172e+00],\n",
       "        [ 3.51318359e+00,  3.83056641e+00,  1.42089844e+00],\n",
       "        [ 1.33544922e+00,  3.39111328e+00, -7.27539062e-01],\n",
       "        [ 3.07128906e+00,  3.21044922e+00, -1.00097656e+00],\n",
       "        [ 3.14208984e+00,  1.37939453e+00,  7.71484375e-01],\n",
       "        [ 1.40136719e+00,  1.55029297e+00,  1.01074219e+00],\n",
       "        [ 9.39941406e-01,  9.03320312e-01, -1.35253906e+00],\n",
       "        [ 2.66845703e+00,  8.56933594e-01, -1.72851562e+00],\n",
       "        [ 4.97070312e+00, -2.90527344e-01,  1.73339844e-01],\n",
       "        [ 5.28564453e+00, -1.55029297e+00, -1.02539062e+00],\n",
       "        [ 4.44091797e+00, -5.85937500e-02, -1.50634766e+00],\n",
       "        [ 3.07128906e+00, -5.11230469e+00,  9.32617188e-01],\n",
       "        [ 1.34765625e+00, -5.13671875e+00,  1.14013672e+00],\n",
       "        [-1.24267578e+00, -1.51611328e+00,  1.74072266e+00],\n",
       "        [-2.88085938e-01, -2.44140625e-03,  1.79931641e+00],\n",
       "        [-2.76611328e+00,  4.44335938e-01,  2.06542969e+00],\n",
       "        [-2.07031250e+00,  1.27197266e+00,  6.61621094e-01],\n",
       "        [-3.64013672e+00, -1.41845703e+00,  6.17675781e-01],\n",
       "        [-3.81103516e+00,  2.24853516e+00, -9.49707031e-01],\n",
       "        [-6.15966797e+00, -9.00878906e-01,  7.71484375e-01],\n",
       "        [-3.39843750e+00, -1.27685547e+00, -1.88720703e+00],\n",
       "        [-2.45117188e+00,  2.14843750e-01, -1.75292969e+00],\n",
       "        [-9.10644531e-01, -1.70166016e+00, -2.03857422e+00],\n",
       "        [-1.63818359e+00, -2.57324219e+00, -6.56738281e-01]]),\n",
       " array([2, 2, 2, 2, 2, 2, 2, 3, 2, 3, 3, 2, 3, 2, 2, 2, 3, 2, 3, 3, 2, 2,\n",
       "        2, 0, 0, 0, 0, 0, 0, 0, 0, 0, 0, 0, 0, 0, 0, 0, 0, 0, 0, 0, 0, 0,\n",
       "        0, 0, 0, 0]))"
      ]
     },
     "execution_count": 33,
     "metadata": {},
     "output_type": "execute_result"
    }
   ],
   "source": [
    "molecule_1"
   ]
  },
  {
   "cell_type": "code",
   "execution_count": null,
   "id": "d103a839",
   "metadata": {},
   "outputs": [],
   "source": []
  },
  {
   "cell_type": "code",
   "execution_count": null,
   "id": "7d5872a0",
   "metadata": {},
   "outputs": [],
   "source": []
  },
  {
   "cell_type": "code",
   "execution_count": 30,
   "id": "f2b83baf",
   "metadata": {},
   "outputs": [],
   "source": [
    "def write_xyz(pos: np.ndarray, atom_ids: np.ndarray, file_location=\"test.xyz\") -> str:\n",
    "    \"\"\"Given atomic coordinates, and element symbols, write a .xyz file which can be\n",
    "    read by molecule visualization programs such as Avogadro. If your molecule looks\n",
    "    like it makes sense, with bonds between the atoms, that's probably a good sign. If\n",
    "    it looks like a mess, that's probably a bad sign.\"\"\"\n",
    "\n",
    "    els = get_el_sym(atom_ids)\n",
    "    part1 = \"\"\n",
    "\n",
    "    for adx, el in enumerate(els):\n",
    "        x = pos[adx, 0]\n",
    "        y = pos[adx, 1]\n",
    "        z = pos[adx, 2]\n",
    "        part1 += f\"\"\"\\n{el:<3}{x:>15.5f}{y:>15.5f}{z:>15.5f}\"\"\"\n",
    "\n",
    "    block = f\"\"\"{len(els)}\\n{part1}\\n\"\"\"\n",
    "    with open(file_location, \"w+\") as out_file:\n",
    "        out_file.write(block)"
   ]
  },
  {
   "cell_type": "code",
   "execution_count": 38,
   "id": "bb056b68",
   "metadata": {},
   "outputs": [],
   "source": [
    "write_xyz(rotate, molecule_1[2] )"
   ]
  },
  {
   "cell_type": "code",
   "execution_count": 41,
   "id": "e5577db3",
   "metadata": {},
   "outputs": [],
   "source": [
    "def total_num_molecules(working_dir):\n",
    "    num_molecule = 0\n",
    "    for i in range(3):\n",
    "        with open(f\"moldata-{i}-sizes.dat\", \"rb\") as f:\n",
    "            file = f.read()\n",
    "            num_molecule+= len(file)\n",
    "    return num_molecule"
   ]
  },
  {
   "cell_type": "code",
   "execution_count": null,
   "id": "700ddf6a",
   "metadata": {},
   "outputs": [],
   "source": []
  },
  {
   "cell_type": "code",
   "execution_count": null,
   "id": "3b1921b9",
   "metadata": {},
   "outputs": [],
   "source": []
  },
  {
   "cell_type": "code",
   "execution_count": null,
   "id": "96f1a112",
   "metadata": {},
   "outputs": [],
   "source": []
  },
  {
   "cell_type": "code",
   "execution_count": null,
   "id": "2bd21cc0",
   "metadata": {},
   "outputs": [],
   "source": []
  },
  {
   "cell_type": "code",
   "execution_count": null,
   "id": "4907a7e7",
   "metadata": {},
   "outputs": [],
   "source": []
  },
  {
   "cell_type": "code",
   "execution_count": null,
   "id": "89d9c25e",
   "metadata": {},
   "outputs": [],
   "source": []
  },
  {
   "cell_type": "code",
   "execution_count": null,
   "id": "baad20b5",
   "metadata": {},
   "outputs": [],
   "source": []
  },
  {
   "cell_type": "code",
   "execution_count": 42,
   "id": "5ffc3209",
   "metadata": {},
   "outputs": [],
   "source": [
    "def tota_separation(coords_1,coords_2, atom_ids_1, atom_ids_2):\n",
    "    leftmost_index = coords_1.argmax(axis = 0)[0]\n",
    "    rightmost_index = coords_2.argmin(axis = 0)[0]\n",
    "    \n",
    "    leftmost_element = get_el_sym([atom_ids_1[leftmost_index]])\n",
    "    rightmost_element = get_el_sym([atom_ids_2[rightmost_index]])\n",
    "    \n",
    "    van_der_waal = {'H' : 120 ,'B' : 192,'C' : 170, 'N' : 155, 'O' : 152, 'F' : 147, 'Na' : 227, 'Si' : 210, 'P': 180, 'S' : 180,\n",
    "                    'Cl': 175, 'K': 275, 'Se': 190, 'Br': 185, 'I': 198}\n",
    "    leftmost_element_dist = van_der_waal[leftmost_element[0]]\n",
    "    rightmost_element_dist = van_der_waal[rightmost_element[0]]\n",
    "    \n",
    "    total_separation = coords_1[leftmost_index][0] + (leftmost_element_dist * 1e-12)+ (rightmost_element_dist * 1e-12) + abs(coords_2[rightmost_index][0])\n",
    "    \n",
    "    return total_separation\n",
    "    "
   ]
  },
  {
   "cell_type": "code",
   "execution_count": null,
   "id": "9dc4d81e",
   "metadata": {},
   "outputs": [],
   "source": [
    "coords_1, atom_ids_1 = molecule_1[1], molecule_1[2]"
   ]
  },
  {
   "cell_type": "code",
   "execution_count": null,
   "id": "43453a7e",
   "metadata": {},
   "outputs": [],
   "source": [
    "coords_2, atom_ids_2 = molecule_2[1], molecule_2[2]"
   ]
  },
  {
   "cell_type": "code",
   "execution_count": null,
   "id": "c2f925b4",
   "metadata": {},
   "outputs": [],
   "source": [
    "get_van_der_dist(coords_1, coords_2, atom_ids_1, atom_ids_2)"
   ]
  },
  {
   "cell_type": "code",
   "execution_count": null,
   "id": "100360bf",
   "metadata": {},
   "outputs": [],
   "source": [
    "leftmost_index = coords_1.argmax(axis = 0)[0]\n",
    "leftmost_element = get_el_sym([atom_ids_1[leftmost_index]])\n",
    "leftmost_element[0]"
   ]
  },
  {
   "cell_type": "code",
   "execution_count": null,
   "id": "2a8d5c82",
   "metadata": {},
   "outputs": [],
   "source": [
    "leftmost_element_dist = van_der_waal[leftmost_element[0]]\n",
    "leftmost_element_dist"
   ]
  },
  {
   "cell_type": "code",
   "execution_count": null,
   "id": "18443a80",
   "metadata": {},
   "outputs": [],
   "source": [
    "H B C N O F Na Si P S Cl K Se Br I X"
   ]
  },
  {
   "cell_type": "code",
   "execution_count": null,
   "id": "20ac81d2",
   "metadata": {},
   "outputs": [],
   "source": [
    "van_der_waal = {'H' : 120 ,'B' : 192,'C' : 170, 'N' : 155, 'O' : 152, 'F' : 147, 'Na' : 227, 'Si' : 210, 'P': 180, 'S' : 180,\n",
    "                    'Cl': 175, 'K': 275, 'Se': 190, 'Br': 185, 'I': 198}"
   ]
  },
  {
   "cell_type": "code",
   "execution_count": null,
   "id": "05f6e19f",
   "metadata": {},
   "outputs": [],
   "source": [
    "righmost_element"
   ]
  },
  {
   "cell_type": "code",
   "execution_count": null,
   "id": "3dfa4f44",
   "metadata": {},
   "outputs": [],
   "source": [
    "196608/3"
   ]
  },
  {
   "cell_type": "code",
   "execution_count": null,
   "id": "cb64a3dc",
   "metadata": {},
   "outputs": [],
   "source": [
    "molecule"
   ]
  },
  {
   "cell_type": "code",
   "execution_count": null,
   "id": "2ddc7cc3",
   "metadata": {},
   "outputs": [],
   "source": [
    "get_el_sym([0])"
   ]
  },
  {
   "cell_type": "code",
   "execution_count": null,
   "id": "beed2205",
   "metadata": {},
   "outputs": [],
   "source": []
  },
  {
   "cell_type": "code",
   "execution_count": null,
   "id": "3c137834",
   "metadata": {},
   "outputs": [],
   "source": [
    "fif(131073)"
   ]
  },
  {
   "cell_type": "code",
   "execution_count": null,
   "id": "cbf4d923",
   "metadata": {},
   "outputs": [],
   "source": [
    "65536 *2"
   ]
  },
  {
   "cell_type": "code",
   "execution_count": 17,
   "id": "7796f0f7",
   "metadata": {},
   "outputs": [],
   "source": [
    "df = pd.read_csv('data.csv')"
   ]
  },
  {
   "cell_type": "code",
   "execution_count": 18,
   "id": "2c305b00",
   "metadata": {},
   "outputs": [
    {
     "data": {
      "text/html": [
       "<div>\n",
       "<style scoped>\n",
       "    .dataframe tbody tr th:only-of-type {\n",
       "        vertical-align: middle;\n",
       "    }\n",
       "\n",
       "    .dataframe tbody tr th {\n",
       "        vertical-align: top;\n",
       "    }\n",
       "\n",
       "    .dataframe thead th {\n",
       "        text-align: right;\n",
       "    }\n",
       "</style>\n",
       "<table border=\"1\" class=\"dataframe\">\n",
       "  <thead>\n",
       "    <tr style=\"text-align: right;\">\n",
       "      <th></th>\n",
       "      <th>Unnamed: 0</th>\n",
       "      <th>size</th>\n",
       "      <th>atoms</th>\n",
       "      <th>coordinates</th>\n",
       "      <th>energies</th>\n",
       "    </tr>\n",
       "  </thead>\n",
       "  <tbody>\n",
       "    <tr>\n",
       "      <th>0</th>\n",
       "      <td>0</td>\n",
       "      <td>48</td>\n",
       "      <td>(2, 2, 2, 2, 2, 2, 2, 3, 2, 3, 3, 2, 3, 2, 2, ...</td>\n",
       "      <td>[(2.5634765625, 4.06494140625, 0.92529296875),...</td>\n",
       "      <td>50.498039</td>\n",
       "    </tr>\n",
       "    <tr>\n",
       "      <th>1</th>\n",
       "      <td>1</td>\n",
       "      <td>48</td>\n",
       "      <td>(2, 2, 2, 2, 2, 2, 2, 3, 2, 3, 3, 2, 3, 2, 2, ...</td>\n",
       "      <td>[(2.5634765625, 4.06494140625, 0.92529296875),...</td>\n",
       "      <td>50.498039</td>\n",
       "    </tr>\n",
       "    <tr>\n",
       "      <th>2</th>\n",
       "      <td>2</td>\n",
       "      <td>48</td>\n",
       "      <td>(2, 2, 2, 2, 2, 2, 2, 3, 2, 3, 3, 2, 3, 2, 2, ...</td>\n",
       "      <td>[(2.5634765625, 4.06494140625, 0.92529296875),...</td>\n",
       "      <td>50.498039</td>\n",
       "    </tr>\n",
       "    <tr>\n",
       "      <th>3</th>\n",
       "      <td>3</td>\n",
       "      <td>48</td>\n",
       "      <td>(2, 2, 2, 2, 2, 2, 2, 3, 2, 3, 3, 2, 3, 2, 2, ...</td>\n",
       "      <td>[(2.5634765625, 4.06494140625, 0.92529296875),...</td>\n",
       "      <td>50.498039</td>\n",
       "    </tr>\n",
       "    <tr>\n",
       "      <th>4</th>\n",
       "      <td>4</td>\n",
       "      <td>48</td>\n",
       "      <td>(2, 2, 2, 2, 2, 2, 2, 3, 2, 3, 3, 2, 3, 2, 2, ...</td>\n",
       "      <td>[(2.5634765625, 4.06494140625, 0.92529296875),...</td>\n",
       "      <td>50.498039</td>\n",
       "    </tr>\n",
       "    <tr>\n",
       "      <th>...</th>\n",
       "      <td>...</td>\n",
       "      <td>...</td>\n",
       "      <td>...</td>\n",
       "      <td>...</td>\n",
       "      <td>...</td>\n",
       "    </tr>\n",
       "    <tr>\n",
       "      <th>196603</th>\n",
       "      <td>196603</td>\n",
       "      <td>48</td>\n",
       "      <td>(2, 2, 2, 2, 2, 2, 2, 3, 2, 3, 3, 2, 3, 2, 2, ...</td>\n",
       "      <td>[(2.5634765625, 4.06494140625, 0.92529296875),...</td>\n",
       "      <td>50.498039</td>\n",
       "    </tr>\n",
       "    <tr>\n",
       "      <th>196604</th>\n",
       "      <td>196604</td>\n",
       "      <td>48</td>\n",
       "      <td>(2, 2, 2, 2, 2, 2, 2, 3, 2, 3, 3, 2, 3, 2, 2, ...</td>\n",
       "      <td>[(2.5634765625, 4.06494140625, 0.92529296875),...</td>\n",
       "      <td>50.498039</td>\n",
       "    </tr>\n",
       "    <tr>\n",
       "      <th>196605</th>\n",
       "      <td>196605</td>\n",
       "      <td>48</td>\n",
       "      <td>(2, 2, 2, 2, 2, 2, 2, 3, 2, 3, 3, 2, 3, 2, 2, ...</td>\n",
       "      <td>[(2.5634765625, 4.06494140625, 0.92529296875),...</td>\n",
       "      <td>50.498039</td>\n",
       "    </tr>\n",
       "    <tr>\n",
       "      <th>196606</th>\n",
       "      <td>196606</td>\n",
       "      <td>48</td>\n",
       "      <td>(2, 2, 2, 2, 2, 2, 2, 3, 2, 3, 3, 2, 3, 2, 2, ...</td>\n",
       "      <td>[(2.5634765625, 4.06494140625, 0.92529296875),...</td>\n",
       "      <td>50.498039</td>\n",
       "    </tr>\n",
       "    <tr>\n",
       "      <th>196607</th>\n",
       "      <td>196607</td>\n",
       "      <td>48</td>\n",
       "      <td>(2, 2, 2, 2, 2, 2, 2, 3, 2, 3, 3, 2, 3, 2, 2, ...</td>\n",
       "      <td>[(2.5634765625, 4.06494140625, 0.92529296875),...</td>\n",
       "      <td>50.498039</td>\n",
       "    </tr>\n",
       "  </tbody>\n",
       "</table>\n",
       "<p>196608 rows × 5 columns</p>\n",
       "</div>"
      ],
      "text/plain": [
       "        Unnamed: 0  size                                              atoms  \\\n",
       "0                0    48  (2, 2, 2, 2, 2, 2, 2, 3, 2, 3, 3, 2, 3, 2, 2, ...   \n",
       "1                1    48  (2, 2, 2, 2, 2, 2, 2, 3, 2, 3, 3, 2, 3, 2, 2, ...   \n",
       "2                2    48  (2, 2, 2, 2, 2, 2, 2, 3, 2, 3, 3, 2, 3, 2, 2, ...   \n",
       "3                3    48  (2, 2, 2, 2, 2, 2, 2, 3, 2, 3, 3, 2, 3, 2, 2, ...   \n",
       "4                4    48  (2, 2, 2, 2, 2, 2, 2, 3, 2, 3, 3, 2, 3, 2, 2, ...   \n",
       "...            ...   ...                                                ...   \n",
       "196603      196603    48  (2, 2, 2, 2, 2, 2, 2, 3, 2, 3, 3, 2, 3, 2, 2, ...   \n",
       "196604      196604    48  (2, 2, 2, 2, 2, 2, 2, 3, 2, 3, 3, 2, 3, 2, 2, ...   \n",
       "196605      196605    48  (2, 2, 2, 2, 2, 2, 2, 3, 2, 3, 3, 2, 3, 2, 2, ...   \n",
       "196606      196606    48  (2, 2, 2, 2, 2, 2, 2, 3, 2, 3, 3, 2, 3, 2, 2, ...   \n",
       "196607      196607    48  (2, 2, 2, 2, 2, 2, 2, 3, 2, 3, 3, 2, 3, 2, 2, ...   \n",
       "\n",
       "                                              coordinates   energies  \n",
       "0       [(2.5634765625, 4.06494140625, 0.92529296875),...  50.498039  \n",
       "1       [(2.5634765625, 4.06494140625, 0.92529296875),...  50.498039  \n",
       "2       [(2.5634765625, 4.06494140625, 0.92529296875),...  50.498039  \n",
       "3       [(2.5634765625, 4.06494140625, 0.92529296875),...  50.498039  \n",
       "4       [(2.5634765625, 4.06494140625, 0.92529296875),...  50.498039  \n",
       "...                                                   ...        ...  \n",
       "196603  [(2.5634765625, 4.06494140625, 0.92529296875),...  50.498039  \n",
       "196604  [(2.5634765625, 4.06494140625, 0.92529296875),...  50.498039  \n",
       "196605  [(2.5634765625, 4.06494140625, 0.92529296875),...  50.498039  \n",
       "196606  [(2.5634765625, 4.06494140625, 0.92529296875),...  50.498039  \n",
       "196607  [(2.5634765625, 4.06494140625, 0.92529296875),...  50.498039  \n",
       "\n",
       "[196608 rows x 5 columns]"
      ]
     },
     "execution_count": 18,
     "metadata": {},
     "output_type": "execute_result"
    }
   ],
   "source": [
    "df"
   ]
  },
  {
   "cell_type": "code",
   "execution_count": null,
   "id": "4d3f0fca",
   "metadata": {},
   "outputs": [],
   "source": []
  }
 ],
 "metadata": {
  "kernelspec": {
   "display_name": "Python 3 (ipykernel)",
   "language": "python",
   "name": "python3"
  },
  "language_info": {
   "codemirror_mode": {
    "name": "ipython",
    "version": 3
   },
   "file_extension": ".py",
   "mimetype": "text/x-python",
   "name": "python",
   "nbconvert_exporter": "python",
   "pygments_lexer": "ipython3",
   "version": "3.9.13"
  }
 },
 "nbformat": 4,
 "nbformat_minor": 5
}
