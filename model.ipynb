{
 "cells": [
  {
   "cell_type": "code",
   "execution_count": 1,
   "id": "fc17f87f",
   "metadata": {},
   "outputs": [],
   "source": [
    "import numpy as np \n",
    "import pandas as pd\n",
    "import struct\n",
    "from typing import List"
   ]
  },
  {
   "cell_type": "code",
   "execution_count": 2,
   "id": "1ecacb7f",
   "metadata": {},
   "outputs": [],
   "source": [
    "def read_files(working_dir, file_name):\n",
    "    \n",
    "    with open(working_dir +f\"moldata-{file_name}-sizes.dat\", \"rb\") as size_file:\n",
    "        size = size_file.read()\n",
    "    with open(working_dir +f\"moldata-{file_name}-atomids.dat\", \"rb\") as binary_file:\n",
    "        atom_id = binary_file.read()\n",
    "        atom_ids = struct.unpack(\"b\" * len(atom_id), atom_id)\n",
    "    with open(working_dir +f\"moldata-{file_name}-energies.dat\", \"rb\") as energy_file:\n",
    "        energies = energy_file.read()\n",
    "        energy = struct.unpack(\"f\" * ((len(energies)) // 4), energies)\n",
    "    coordinates = []\n",
    "    with open(working_dir +f\"moldata-{file_name}-coords.dat\", \"rb\") as coordinates_file:\n",
    "        while True:\n",
    "            coord = coordinates_file.read(12) #reading 12 bytes at a time to extract the starting 3 coordinate of 1 atom\n",
    "            if not coord: break\n",
    "            coord = struct.unpack('f'*3, coord)\n",
    "            coordinates.append(coord)\n",
    "            \n",
    "    return size, atom_ids, energy, coordinates"
   ]
  },
  {
   "cell_type": "code",
   "execution_count": 3,
   "id": "e2ed200b",
   "metadata": {},
   "outputs": [],
   "source": [
    "size_1, atom_ids_1 ,energy_1 , coordinates_1 = read_files(r\"C:\\Users\\Kamal Maurya\\Downloads\\Halion Take-Home Coding Assignment V2\\\\\", 0)"
   ]
  },
  {
   "cell_type": "code",
   "execution_count": 4,
   "id": "dba664a4",
   "metadata": {},
   "outputs": [],
   "source": [
    "size_2, atom_ids_2 ,energy_2 , coordinates_2 = read_files(r\"C:\\Users\\Kamal Maurya\\Downloads\\Halion Take-Home Coding Assignment V2\\\\\", 1)"
   ]
  },
  {
   "cell_type": "code",
   "execution_count": 5,
   "id": "d8a38afd",
   "metadata": {},
   "outputs": [],
   "source": [
    "size_3, atom_ids_3 ,energy_3 , coordinates_3 = read_files(r\"C:\\Users\\Kamal Maurya\\Downloads\\Halion Take-Home Coding Assignment V2\\\\\", 2)"
   ]
  },
  {
   "cell_type": "code",
   "execution_count": 6,
   "id": "82ff8738",
   "metadata": {},
   "outputs": [],
   "source": [
    "def get_coordinate_for_molecule(mol_index, size, coordinates):\n",
    "        \n",
    "    if mol_index ==1:\n",
    "        return coordinates[:size[1]]\n",
    "    else:\n",
    "        starting_element = 0\n",
    "        ending_ele = 0\n",
    "        for i in range(mol_index):\n",
    "            starting_element +=size[i]\n",
    "\n",
    "        ending_ele = size[mol_index]+starting_element\n",
    "\n",
    "        return coordinates[starting_element:ending_ele]"
   ]
  },
  {
   "cell_type": "code",
   "execution_count": 7,
   "id": "b274286b",
   "metadata": {},
   "outputs": [],
   "source": [
    "coordinates_f1 = []\n",
    "for i in range(len(size_1)):\n",
    "    coord = get_coordinate_for_molecule(i, size_1, coordinates_1)\n",
    "    coordinates_f1.append(coord)"
   ]
  },
  {
   "cell_type": "code",
   "execution_count": 8,
   "id": "ee61001f",
   "metadata": {},
   "outputs": [],
   "source": [
    "coordinates_f2 = []\n",
    "for i in range(len(size_2)):\n",
    "    coord = get_coordinate_for_molecule(i,size_2, coordinates_2 )\n",
    "    coordinates_f2.append(coord)"
   ]
  },
  {
   "cell_type": "code",
   "execution_count": 9,
   "id": "687b6e51",
   "metadata": {},
   "outputs": [],
   "source": [
    "coordinates_f3 = []\n",
    "for i in range(len(size_3)):\n",
    "    coord = get_coordinate_for_molecule(i, size_3, coordinates_3)\n",
    "    coordinates_f3.append(coord)"
   ]
  },
  {
   "cell_type": "code",
   "execution_count": 10,
   "id": "545bd0c8",
   "metadata": {},
   "outputs": [],
   "source": [
    "size_1 = struct.unpack(\"b\" * len(size_1), size_1)\n",
    "size_2 = struct.unpack(\"b\" * len(size_2), size_2)\n",
    "size_3 = struct.unpack(\"b\" * len(size_3), size_3)"
   ]
  },
  {
   "cell_type": "code",
   "execution_count": null,
   "id": "2d4a6eca",
   "metadata": {},
   "outputs": [],
   "source": []
  },
  {
   "cell_type": "code",
   "execution_count": 11,
   "id": "863a4db3",
   "metadata": {},
   "outputs": [
    {
     "name": "stderr",
     "output_type": "stream",
     "text": [
      "C:\\Users\\Kamal Maurya\\AppData\\Local\\Temp\\ipykernel_19588\\3968371759.py:1: VisibleDeprecationWarning: Creating an ndarray from ragged nested sequences (which is a list-or-tuple of lists-or-tuples-or ndarrays with different lengths or shapes) is deprecated. If you meant to do this, you must specify 'dtype=object' when creating the ndarray.\n",
      "  coordinates_1 = np.array(coordinates_f1)\n"
     ]
    }
   ],
   "source": [
    "coordinates_1 = np.array(coordinates_f1)"
   ]
  },
  {
   "cell_type": "code",
   "execution_count": 12,
   "id": "7b8061e5",
   "metadata": {},
   "outputs": [
    {
     "name": "stderr",
     "output_type": "stream",
     "text": [
      "C:\\Users\\Kamal Maurya\\AppData\\Local\\Temp\\ipykernel_19588\\1648578977.py:1: VisibleDeprecationWarning: Creating an ndarray from ragged nested sequences (which is a list-or-tuple of lists-or-tuples-or ndarrays with different lengths or shapes) is deprecated. If you meant to do this, you must specify 'dtype=object' when creating the ndarray.\n",
      "  coordinates_2 = np.array(coordinates_f1)\n"
     ]
    }
   ],
   "source": [
    "coordinates_2 = np.array(coordinates_f1)"
   ]
  },
  {
   "cell_type": "code",
   "execution_count": 13,
   "id": "84357a2e",
   "metadata": {},
   "outputs": [
    {
     "name": "stderr",
     "output_type": "stream",
     "text": [
      "C:\\Users\\Kamal Maurya\\AppData\\Local\\Temp\\ipykernel_19588\\436162069.py:1: VisibleDeprecationWarning: Creating an ndarray from ragged nested sequences (which is a list-or-tuple of lists-or-tuples-or ndarrays with different lengths or shapes) is deprecated. If you meant to do this, you must specify 'dtype=object' when creating the ndarray.\n",
      "  coordinates_3 = np.array(coordinates_f3)\n"
     ]
    }
   ],
   "source": [
    "coordinates_3 = np.array(coordinates_f3)"
   ]
  },
  {
   "cell_type": "code",
   "execution_count": 14,
   "id": "6600b3b5",
   "metadata": {},
   "outputs": [
    {
     "data": {
      "text/plain": [
       "(65536,)"
      ]
     },
     "execution_count": 14,
     "metadata": {},
     "output_type": "execute_result"
    }
   ],
   "source": [
    "coordinates_2.shape"
   ]
  },
  {
   "cell_type": "code",
   "execution_count": 7,
   "id": "e14fbe57",
   "metadata": {},
   "outputs": [],
   "source": [
    "def get_atom_ids(mol_index, size, atom_ids):\n",
    "\n",
    "   \n",
    "    if mol_index == 1:\n",
    "        return atom_ids[:size[1]]\n",
    "    \n",
    "    else:\n",
    "        starting_element = 0\n",
    "        ending_ele = 0\n",
    "        for i in range(mol_index):\n",
    "            starting_element +=size[i]\n",
    "\n",
    "        ending_ele = size[mol_index]+starting_element\n",
    "\n",
    "    return atom_ids[starting_element:ending_ele]  "
   ]
  },
  {
   "cell_type": "code",
   "execution_count": 16,
   "id": "9499f869",
   "metadata": {},
   "outputs": [
    {
     "ename": "NameError",
     "evalue": "name 'atom_ids' is not defined",
     "output_type": "error",
     "traceback": [
      "\u001b[1;31m---------------------------------------------------------------------------\u001b[0m",
      "\u001b[1;31mNameError\u001b[0m                                 Traceback (most recent call last)",
      "\u001b[1;32m~\\AppData\\Local\\Temp\\ipykernel_19588\\3502186705.py\u001b[0m in \u001b[0;36m<module>\u001b[1;34m\u001b[0m\n\u001b[1;32m----> 1\u001b[1;33m \u001b[0matom_ids\u001b[0m\u001b[1;33m\u001b[0m\u001b[1;33m\u001b[0m\u001b[0m\n\u001b[0m",
      "\u001b[1;31mNameError\u001b[0m: name 'atom_ids' is not defined"
     ]
    }
   ],
   "source": [
    "atom_ids"
   ]
  },
  {
   "cell_type": "code",
   "execution_count": 17,
   "id": "2568ec8f",
   "metadata": {},
   "outputs": [],
   "source": [
    "atom_id_f1 = []\n",
    "for i in range(len(size_1)):\n",
    "    ids = get_atom_ids(i, size_1, atom_ids_1)\n",
    "    atom_id_f1.append(ids)"
   ]
  },
  {
   "cell_type": "code",
   "execution_count": 18,
   "id": "340a3390",
   "metadata": {},
   "outputs": [],
   "source": [
    "atom_id_f2 = []\n",
    "for i in range(len(size_2)):\n",
    "    ids = get_atom_ids(i, size_2,atom_ids_2)\n",
    "    atom_id_f2.append(ids)"
   ]
  },
  {
   "cell_type": "code",
   "execution_count": 19,
   "id": "1d7efdac",
   "metadata": {},
   "outputs": [],
   "source": [
    "atom_id_f3 = []\n",
    "for i in range(len(size_3)):\n",
    "    ids = get_atom_ids(i, size_3,atom_ids_3)\n",
    "    atom_id_f3.append(ids)"
   ]
  },
  {
   "cell_type": "code",
   "execution_count": 20,
   "id": "48bce186",
   "metadata": {},
   "outputs": [],
   "source": [
    "atom_id_1 = np.array(atom_id_f1, dtype=object)\n",
    "atom_id_2 = np.array(atom_id_f2, dtype=object)\n",
    "atom_id_3 = np.array(atom_id_f3, dtype=object)"
   ]
  },
  {
   "cell_type": "code",
   "execution_count": null,
   "id": "9ad4cc87",
   "metadata": {},
   "outputs": [],
   "source": [
    "len(atom_id_1[1])"
   ]
  },
  {
   "cell_type": "code",
   "execution_count": null,
   "id": "077f9f0e",
   "metadata": {},
   "outputs": [],
   "source": []
  },
  {
   "cell_type": "code",
   "execution_count": 21,
   "id": "6fb91f28",
   "metadata": {},
   "outputs": [],
   "source": [
    "size_1 = np.array(size_1)\n",
    "size_2 = np.array(size_2)\n",
    "size_3 = np.array(size_3)"
   ]
  },
  {
   "cell_type": "code",
   "execution_count": null,
   "id": "6dde7327",
   "metadata": {},
   "outputs": [],
   "source": []
  },
  {
   "cell_type": "code",
   "execution_count": 22,
   "id": "67a6fea7",
   "metadata": {},
   "outputs": [],
   "source": [
    "d1 = {'size': size_1, 'atoms' : atom_id_1, 'coordinates' : coordinates_1, 'energies' : energy_1}\n",
    "d2 = {'size': size_2, 'atoms' : atom_id_2, 'coordinates' : coordinates_2, 'energies' : energy_2}\n",
    "d3 = {'size': size_3, 'atoms' : atom_id_3, 'coordinates' : coordinates_3, 'energies' : energy_3}"
   ]
  },
  {
   "cell_type": "code",
   "execution_count": null,
   "id": "112e5521",
   "metadata": {},
   "outputs": [],
   "source": []
  },
  {
   "cell_type": "code",
   "execution_count": 23,
   "id": "83da7635",
   "metadata": {},
   "outputs": [],
   "source": [
    "df1 = pd.DataFrame(data=d1)\n",
    "df2 = pd.DataFrame(data=d2)\n",
    "df3 = pd.DataFrame(data=d3)"
   ]
  },
  {
   "cell_type": "code",
   "execution_count": null,
   "id": "bc49309b",
   "metadata": {},
   "outputs": [],
   "source": []
  },
  {
   "cell_type": "code",
   "execution_count": 24,
   "id": "5798c174",
   "metadata": {},
   "outputs": [],
   "source": [
    "frames = [df1,df2,df3]\n",
    "df = pd.concat(frames, ignore_index=True)"
   ]
  },
  {
   "cell_type": "code",
   "execution_count": 8,
   "id": "405a7c3d",
   "metadata": {},
   "outputs": [],
   "source": [
    "df = pd.read_csv('data.csv')"
   ]
  },
  {
   "cell_type": "code",
   "execution_count": null,
   "id": "7baee0e9",
   "metadata": {},
   "outputs": [],
   "source": []
  },
  {
   "cell_type": "code",
   "execution_count": null,
   "id": "e4ce7798",
   "metadata": {},
   "outputs": [],
   "source": [
    "df = df.sample(frac = 1)"
   ]
  },
  {
   "cell_type": "code",
   "execution_count": 10,
   "id": "399926e0",
   "metadata": {},
   "outputs": [
    {
     "data": {
      "text/html": [
       "<div>\n",
       "<style scoped>\n",
       "    .dataframe tbody tr th:only-of-type {\n",
       "        vertical-align: middle;\n",
       "    }\n",
       "\n",
       "    .dataframe tbody tr th {\n",
       "        vertical-align: top;\n",
       "    }\n",
       "\n",
       "    .dataframe thead th {\n",
       "        text-align: right;\n",
       "    }\n",
       "</style>\n",
       "<table border=\"1\" class=\"dataframe\">\n",
       "  <thead>\n",
       "    <tr style=\"text-align: right;\">\n",
       "      <th></th>\n",
       "      <th>Unnamed: 0</th>\n",
       "      <th>size</th>\n",
       "      <th>atoms</th>\n",
       "      <th>coordinates</th>\n",
       "      <th>energies</th>\n",
       "    </tr>\n",
       "  </thead>\n",
       "  <tbody>\n",
       "    <tr>\n",
       "      <th>0</th>\n",
       "      <td>0</td>\n",
       "      <td>48</td>\n",
       "      <td>(2, 2, 2, 2, 2, 2, 2, 3, 2, 3, 3, 2, 3, 2, 2, ...</td>\n",
       "      <td>[(2.5634765625, 4.06494140625, 0.92529296875),...</td>\n",
       "      <td>50.498039</td>\n",
       "    </tr>\n",
       "    <tr>\n",
       "      <th>1</th>\n",
       "      <td>1</td>\n",
       "      <td>48</td>\n",
       "      <td>(2, 2, 2, 2, 2, 2, 2, 3, 2, 3, 3, 2, 3, 2, 2, ...</td>\n",
       "      <td>[(2.5634765625, 4.06494140625, 0.92529296875),...</td>\n",
       "      <td>50.498039</td>\n",
       "    </tr>\n",
       "    <tr>\n",
       "      <th>2</th>\n",
       "      <td>2</td>\n",
       "      <td>48</td>\n",
       "      <td>(2, 2, 2, 2, 2, 2, 2, 3, 2, 3, 3, 2, 3, 2, 2, ...</td>\n",
       "      <td>[(2.5634765625, 4.06494140625, 0.92529296875),...</td>\n",
       "      <td>50.498039</td>\n",
       "    </tr>\n",
       "    <tr>\n",
       "      <th>3</th>\n",
       "      <td>3</td>\n",
       "      <td>48</td>\n",
       "      <td>(2, 2, 2, 2, 2, 2, 2, 3, 2, 3, 3, 2, 3, 2, 2, ...</td>\n",
       "      <td>[(2.5634765625, 4.06494140625, 0.92529296875),...</td>\n",
       "      <td>50.498039</td>\n",
       "    </tr>\n",
       "    <tr>\n",
       "      <th>4</th>\n",
       "      <td>4</td>\n",
       "      <td>48</td>\n",
       "      <td>(2, 2, 2, 2, 2, 2, 2, 3, 2, 3, 3, 2, 3, 2, 2, ...</td>\n",
       "      <td>[(2.5634765625, 4.06494140625, 0.92529296875),...</td>\n",
       "      <td>50.498039</td>\n",
       "    </tr>\n",
       "    <tr>\n",
       "      <th>...</th>\n",
       "      <td>...</td>\n",
       "      <td>...</td>\n",
       "      <td>...</td>\n",
       "      <td>...</td>\n",
       "      <td>...</td>\n",
       "    </tr>\n",
       "    <tr>\n",
       "      <th>196603</th>\n",
       "      <td>196603</td>\n",
       "      <td>48</td>\n",
       "      <td>(2, 2, 2, 2, 2, 2, 2, 3, 2, 3, 3, 2, 3, 2, 2, ...</td>\n",
       "      <td>[(2.5634765625, 4.06494140625, 0.92529296875),...</td>\n",
       "      <td>50.498039</td>\n",
       "    </tr>\n",
       "    <tr>\n",
       "      <th>196604</th>\n",
       "      <td>196604</td>\n",
       "      <td>48</td>\n",
       "      <td>(2, 2, 2, 2, 2, 2, 2, 3, 2, 3, 3, 2, 3, 2, 2, ...</td>\n",
       "      <td>[(2.5634765625, 4.06494140625, 0.92529296875),...</td>\n",
       "      <td>50.498039</td>\n",
       "    </tr>\n",
       "    <tr>\n",
       "      <th>196605</th>\n",
       "      <td>196605</td>\n",
       "      <td>48</td>\n",
       "      <td>(2, 2, 2, 2, 2, 2, 2, 3, 2, 3, 3, 2, 3, 2, 2, ...</td>\n",
       "      <td>[(2.5634765625, 4.06494140625, 0.92529296875),...</td>\n",
       "      <td>50.498039</td>\n",
       "    </tr>\n",
       "    <tr>\n",
       "      <th>196606</th>\n",
       "      <td>196606</td>\n",
       "      <td>48</td>\n",
       "      <td>(2, 2, 2, 2, 2, 2, 2, 3, 2, 3, 3, 2, 3, 2, 2, ...</td>\n",
       "      <td>[(2.5634765625, 4.06494140625, 0.92529296875),...</td>\n",
       "      <td>50.498039</td>\n",
       "    </tr>\n",
       "    <tr>\n",
       "      <th>196607</th>\n",
       "      <td>196607</td>\n",
       "      <td>48</td>\n",
       "      <td>(2, 2, 2, 2, 2, 2, 2, 3, 2, 3, 3, 2, 3, 2, 2, ...</td>\n",
       "      <td>[(2.5634765625, 4.06494140625, 0.92529296875),...</td>\n",
       "      <td>50.498039</td>\n",
       "    </tr>\n",
       "  </tbody>\n",
       "</table>\n",
       "<p>196608 rows × 5 columns</p>\n",
       "</div>"
      ],
      "text/plain": [
       "        Unnamed: 0  size                                              atoms  \\\n",
       "0                0    48  (2, 2, 2, 2, 2, 2, 2, 3, 2, 3, 3, 2, 3, 2, 2, ...   \n",
       "1                1    48  (2, 2, 2, 2, 2, 2, 2, 3, 2, 3, 3, 2, 3, 2, 2, ...   \n",
       "2                2    48  (2, 2, 2, 2, 2, 2, 2, 3, 2, 3, 3, 2, 3, 2, 2, ...   \n",
       "3                3    48  (2, 2, 2, 2, 2, 2, 2, 3, 2, 3, 3, 2, 3, 2, 2, ...   \n",
       "4                4    48  (2, 2, 2, 2, 2, 2, 2, 3, 2, 3, 3, 2, 3, 2, 2, ...   \n",
       "...            ...   ...                                                ...   \n",
       "196603      196603    48  (2, 2, 2, 2, 2, 2, 2, 3, 2, 3, 3, 2, 3, 2, 2, ...   \n",
       "196604      196604    48  (2, 2, 2, 2, 2, 2, 2, 3, 2, 3, 3, 2, 3, 2, 2, ...   \n",
       "196605      196605    48  (2, 2, 2, 2, 2, 2, 2, 3, 2, 3, 3, 2, 3, 2, 2, ...   \n",
       "196606      196606    48  (2, 2, 2, 2, 2, 2, 2, 3, 2, 3, 3, 2, 3, 2, 2, ...   \n",
       "196607      196607    48  (2, 2, 2, 2, 2, 2, 2, 3, 2, 3, 3, 2, 3, 2, 2, ...   \n",
       "\n",
       "                                              coordinates   energies  \n",
       "0       [(2.5634765625, 4.06494140625, 0.92529296875),...  50.498039  \n",
       "1       [(2.5634765625, 4.06494140625, 0.92529296875),...  50.498039  \n",
       "2       [(2.5634765625, 4.06494140625, 0.92529296875),...  50.498039  \n",
       "3       [(2.5634765625, 4.06494140625, 0.92529296875),...  50.498039  \n",
       "4       [(2.5634765625, 4.06494140625, 0.92529296875),...  50.498039  \n",
       "...                                                   ...        ...  \n",
       "196603  [(2.5634765625, 4.06494140625, 0.92529296875),...  50.498039  \n",
       "196604  [(2.5634765625, 4.06494140625, 0.92529296875),...  50.498039  \n",
       "196605  [(2.5634765625, 4.06494140625, 0.92529296875),...  50.498039  \n",
       "196606  [(2.5634765625, 4.06494140625, 0.92529296875),...  50.498039  \n",
       "196607  [(2.5634765625, 4.06494140625, 0.92529296875),...  50.498039  \n",
       "\n",
       "[196608 rows x 5 columns]"
      ]
     },
     "execution_count": 10,
     "metadata": {},
     "output_type": "execute_result"
    }
   ],
   "source": [
    "df"
   ]
  },
  {
   "cell_type": "code",
   "execution_count": null,
   "id": "daddb0dd",
   "metadata": {},
   "outputs": [],
   "source": [
    "df = df.set_index(['size']).apply(pd.Series.explode)"
   ]
  },
  {
   "cell_type": "code",
   "execution_count": 28,
   "id": "2fe36b14",
   "metadata": {},
   "outputs": [],
   "source": [
    "#exploding coordinates of molecules\n",
    "df = df.explode('coordinates')"
   ]
  },
  {
   "cell_type": "code",
   "execution_count": 36,
   "id": "065061c0",
   "metadata": {},
   "outputs": [],
   "source": [
    "#exploding coordinates of molecules\n",
    "df = df.explode('coordinates')"
   ]
  },
  {
   "cell_type": "code",
   "execution_count": 37,
   "id": "22b39b06",
   "metadata": {},
   "outputs": [
    {
     "data": {
      "text/html": [
       "<div>\n",
       "<style scoped>\n",
       "    .dataframe tbody tr th:only-of-type {\n",
       "        vertical-align: middle;\n",
       "    }\n",
       "\n",
       "    .dataframe tbody tr th {\n",
       "        vertical-align: top;\n",
       "    }\n",
       "\n",
       "    .dataframe thead th {\n",
       "        text-align: right;\n",
       "    }\n",
       "</style>\n",
       "<table border=\"1\" class=\"dataframe\">\n",
       "  <thead>\n",
       "    <tr style=\"text-align: right;\">\n",
       "      <th></th>\n",
       "      <th>size</th>\n",
       "      <th>atoms</th>\n",
       "      <th>coordinates</th>\n",
       "      <th>energies</th>\n",
       "    </tr>\n",
       "  </thead>\n",
       "  <tbody>\n",
       "    <tr>\n",
       "      <th>0</th>\n",
       "      <td>48</td>\n",
       "      <td>(2, 2, 2, 2, 2, 2, 2, 3, 2, 3, 3, 2, 3, 2, 2, ...</td>\n",
       "      <td>2.563477</td>\n",
       "      <td>50.498039</td>\n",
       "    </tr>\n",
       "    <tr>\n",
       "      <th>0</th>\n",
       "      <td>48</td>\n",
       "      <td>(2, 2, 2, 2, 2, 2, 2, 3, 2, 3, 3, 2, 3, 2, 2, ...</td>\n",
       "      <td>4.064941</td>\n",
       "      <td>50.498039</td>\n",
       "    </tr>\n",
       "    <tr>\n",
       "      <th>0</th>\n",
       "      <td>48</td>\n",
       "      <td>(2, 2, 2, 2, 2, 2, 2, 3, 2, 3, 3, 2, 3, 2, 2, ...</td>\n",
       "      <td>0.925293</td>\n",
       "      <td>50.498039</td>\n",
       "    </tr>\n",
       "    <tr>\n",
       "      <th>0</th>\n",
       "      <td>48</td>\n",
       "      <td>(2, 2, 2, 2, 2, 2, 2, 3, 2, 3, 3, 2, 3, 2, 2, ...</td>\n",
       "      <td>2.282715</td>\n",
       "      <td>50.498039</td>\n",
       "    </tr>\n",
       "    <tr>\n",
       "      <th>0</th>\n",
       "      <td>48</td>\n",
       "      <td>(2, 2, 2, 2, 2, 2, 2, 3, 2, 3, 3, 2, 3, 2, 2, ...</td>\n",
       "      <td>3.10791</td>\n",
       "      <td>50.498039</td>\n",
       "    </tr>\n",
       "    <tr>\n",
       "      <th>...</th>\n",
       "      <td>...</td>\n",
       "      <td>...</td>\n",
       "      <td>...</td>\n",
       "      <td>...</td>\n",
       "    </tr>\n",
       "    <tr>\n",
       "      <th>196607</th>\n",
       "      <td>48</td>\n",
       "      <td>(2, 2, 2, 2, 2, 2, 2, 3, 2, 3, 3, 2, 3, 2, 2, ...</td>\n",
       "      <td>-1.70166</td>\n",
       "      <td>50.498039</td>\n",
       "    </tr>\n",
       "    <tr>\n",
       "      <th>196607</th>\n",
       "      <td>48</td>\n",
       "      <td>(2, 2, 2, 2, 2, 2, 2, 3, 2, 3, 3, 2, 3, 2, 2, ...</td>\n",
       "      <td>-2.038574</td>\n",
       "      <td>50.498039</td>\n",
       "    </tr>\n",
       "    <tr>\n",
       "      <th>196607</th>\n",
       "      <td>48</td>\n",
       "      <td>(2, 2, 2, 2, 2, 2, 2, 3, 2, 3, 3, 2, 3, 2, 2, ...</td>\n",
       "      <td>-1.638184</td>\n",
       "      <td>50.498039</td>\n",
       "    </tr>\n",
       "    <tr>\n",
       "      <th>196607</th>\n",
       "      <td>48</td>\n",
       "      <td>(2, 2, 2, 2, 2, 2, 2, 3, 2, 3, 3, 2, 3, 2, 2, ...</td>\n",
       "      <td>-2.573242</td>\n",
       "      <td>50.498039</td>\n",
       "    </tr>\n",
       "    <tr>\n",
       "      <th>196607</th>\n",
       "      <td>48</td>\n",
       "      <td>(2, 2, 2, 2, 2, 2, 2, 3, 2, 3, 3, 2, 3, 2, 2, ...</td>\n",
       "      <td>-0.656738</td>\n",
       "      <td>50.498039</td>\n",
       "    </tr>\n",
       "  </tbody>\n",
       "</table>\n",
       "<p>25962000 rows × 4 columns</p>\n",
       "</div>"
      ],
      "text/plain": [
       "        size                                              atoms coordinates  \\\n",
       "0         48  (2, 2, 2, 2, 2, 2, 2, 3, 2, 3, 3, 2, 3, 2, 2, ...    2.563477   \n",
       "0         48  (2, 2, 2, 2, 2, 2, 2, 3, 2, 3, 3, 2, 3, 2, 2, ...    4.064941   \n",
       "0         48  (2, 2, 2, 2, 2, 2, 2, 3, 2, 3, 3, 2, 3, 2, 2, ...    0.925293   \n",
       "0         48  (2, 2, 2, 2, 2, 2, 2, 3, 2, 3, 3, 2, 3, 2, 2, ...    2.282715   \n",
       "0         48  (2, 2, 2, 2, 2, 2, 2, 3, 2, 3, 3, 2, 3, 2, 2, ...     3.10791   \n",
       "...      ...                                                ...         ...   \n",
       "196607    48  (2, 2, 2, 2, 2, 2, 2, 3, 2, 3, 3, 2, 3, 2, 2, ...    -1.70166   \n",
       "196607    48  (2, 2, 2, 2, 2, 2, 2, 3, 2, 3, 3, 2, 3, 2, 2, ...   -2.038574   \n",
       "196607    48  (2, 2, 2, 2, 2, 2, 2, 3, 2, 3, 3, 2, 3, 2, 2, ...   -1.638184   \n",
       "196607    48  (2, 2, 2, 2, 2, 2, 2, 3, 2, 3, 3, 2, 3, 2, 2, ...   -2.573242   \n",
       "196607    48  (2, 2, 2, 2, 2, 2, 2, 3, 2, 3, 3, 2, 3, 2, 2, ...   -0.656738   \n",
       "\n",
       "         energies  \n",
       "0       50.498039  \n",
       "0       50.498039  \n",
       "0       50.498039  \n",
       "0       50.498039  \n",
       "0       50.498039  \n",
       "...           ...  \n",
       "196607  50.498039  \n",
       "196607  50.498039  \n",
       "196607  50.498039  \n",
       "196607  50.498039  \n",
       "196607  50.498039  \n",
       "\n",
       "[25962000 rows x 4 columns]"
      ]
     },
     "execution_count": 37,
     "metadata": {},
     "output_type": "execute_result"
    }
   ],
   "source": [
    "df"
   ]
  },
  {
   "cell_type": "code",
   "execution_count": 43,
   "id": "2efdd949",
   "metadata": {},
   "outputs": [],
   "source": [
    "y  = df.energies"
   ]
  },
  {
   "cell_type": "code",
   "execution_count": 38,
   "id": "9d033670",
   "metadata": {},
   "outputs": [],
   "source": [
    "feature = ['size', 'coordinates'] "
   ]
  },
  {
   "cell_type": "code",
   "execution_count": 39,
   "id": "5416448f",
   "metadata": {},
   "outputs": [],
   "source": [
    "X = df[feature]"
   ]
  },
  {
   "cell_type": "code",
   "execution_count": 40,
   "id": "17b64217",
   "metadata": {},
   "outputs": [
    {
     "data": {
      "text/html": [
       "<div>\n",
       "<style scoped>\n",
       "    .dataframe tbody tr th:only-of-type {\n",
       "        vertical-align: middle;\n",
       "    }\n",
       "\n",
       "    .dataframe tbody tr th {\n",
       "        vertical-align: top;\n",
       "    }\n",
       "\n",
       "    .dataframe thead th {\n",
       "        text-align: right;\n",
       "    }\n",
       "</style>\n",
       "<table border=\"1\" class=\"dataframe\">\n",
       "  <thead>\n",
       "    <tr style=\"text-align: right;\">\n",
       "      <th></th>\n",
       "      <th>size</th>\n",
       "      <th>coordinates</th>\n",
       "    </tr>\n",
       "  </thead>\n",
       "  <tbody>\n",
       "    <tr>\n",
       "      <th>0</th>\n",
       "      <td>48</td>\n",
       "      <td>2.563477</td>\n",
       "    </tr>\n",
       "    <tr>\n",
       "      <th>0</th>\n",
       "      <td>48</td>\n",
       "      <td>4.064941</td>\n",
       "    </tr>\n",
       "    <tr>\n",
       "      <th>0</th>\n",
       "      <td>48</td>\n",
       "      <td>0.925293</td>\n",
       "    </tr>\n",
       "    <tr>\n",
       "      <th>0</th>\n",
       "      <td>48</td>\n",
       "      <td>2.282715</td>\n",
       "    </tr>\n",
       "    <tr>\n",
       "      <th>0</th>\n",
       "      <td>48</td>\n",
       "      <td>3.10791</td>\n",
       "    </tr>\n",
       "  </tbody>\n",
       "</table>\n",
       "</div>"
      ],
      "text/plain": [
       "   size coordinates\n",
       "0    48    2.563477\n",
       "0    48    4.064941\n",
       "0    48    0.925293\n",
       "0    48    2.282715\n",
       "0    48     3.10791"
      ]
     },
     "execution_count": 40,
     "metadata": {},
     "output_type": "execute_result"
    }
   ],
   "source": [
    "X.head()"
   ]
  },
  {
   "cell_type": "code",
   "execution_count": 44,
   "id": "df8c23b4",
   "metadata": {},
   "outputs": [
    {
     "data": {
      "text/plain": [
       "DecisionTreeRegressor(random_state=1)"
      ]
     },
     "execution_count": 44,
     "metadata": {},
     "output_type": "execute_result"
    }
   ],
   "source": [
    "#model \n",
    "from sklearn.tree import DecisionTreeRegressor\n",
    "\n",
    "model = DecisionTreeRegressor(random_state=1)\n",
    "\n",
    "model.fit(X,y)"
   ]
  },
  {
   "cell_type": "code",
   "execution_count": 46,
   "id": "400166c2",
   "metadata": {},
   "outputs": [
    {
     "data": {
      "text/plain": [
       "2.346800186230339"
      ]
     },
     "execution_count": 46,
     "metadata": {},
     "output_type": "execute_result"
    }
   ],
   "source": [
    "from sklearn.metrics import mean_absolute_error\n",
    "predicted_energies = model.predict(X)\n",
    "mean_absolute_error(y, predicted_energies)"
   ]
  },
  {
   "cell_type": "code",
   "execution_count": null,
   "id": "500cda88",
   "metadata": {},
   "outputs": [],
   "source": [
    "predicted_energies()"
   ]
  },
  {
   "cell_type": "code",
   "execution_count": 47,
   "id": "da9fa621",
   "metadata": {},
   "outputs": [
    {
     "name": "stdout",
     "output_type": "stream",
     "text": [
      "2.345444961853267\n"
     ]
    }
   ],
   "source": [
    "from sklearn.model_selection import train_test_split\n",
    "\n",
    "train_X, val_X, train_y, val_y = train_test_split(X, y, random_state = 0, test_size=0.20 )\n",
    "# Define model\n",
    "model = DecisionTreeRegressor()\n",
    "# Fit model\n",
    "model.fit(train_X, train_y)\n",
    "\n",
    "# get predicted prices on validation data\n",
    "energies_predict = model.predict(val_X)\n",
    "print(mean_absolute_error(val_y, energies_predict))"
   ]
  },
  {
   "cell_type": "code",
   "execution_count": 48,
   "id": "ee0e3c91",
   "metadata": {},
   "outputs": [
    {
     "data": {
      "text/html": [
       "<div>\n",
       "<style scoped>\n",
       "    .dataframe tbody tr th:only-of-type {\n",
       "        vertical-align: middle;\n",
       "    }\n",
       "\n",
       "    .dataframe tbody tr th {\n",
       "        vertical-align: top;\n",
       "    }\n",
       "\n",
       "    .dataframe thead th {\n",
       "        text-align: right;\n",
       "    }\n",
       "</style>\n",
       "<table border=\"1\" class=\"dataframe\">\n",
       "  <thead>\n",
       "    <tr style=\"text-align: right;\">\n",
       "      <th></th>\n",
       "      <th>size</th>\n",
       "      <th>coordinates</th>\n",
       "    </tr>\n",
       "  </thead>\n",
       "  <tbody>\n",
       "    <tr>\n",
       "      <th>39282</th>\n",
       "      <td>44</td>\n",
       "      <td>-4.169922</td>\n",
       "    </tr>\n",
       "    <tr>\n",
       "      <th>67386</th>\n",
       "      <td>22</td>\n",
       "      <td>-0.437012</td>\n",
       "    </tr>\n",
       "    <tr>\n",
       "      <th>50205</th>\n",
       "      <td>44</td>\n",
       "      <td>-3.669434</td>\n",
       "    </tr>\n",
       "    <tr>\n",
       "      <th>180851</th>\n",
       "      <td>39</td>\n",
       "      <td>6.359863</td>\n",
       "    </tr>\n",
       "    <tr>\n",
       "      <th>189231</th>\n",
       "      <td>48</td>\n",
       "      <td>-1.025391</td>\n",
       "    </tr>\n",
       "    <tr>\n",
       "      <th>...</th>\n",
       "      <td>...</td>\n",
       "      <td>...</td>\n",
       "    </tr>\n",
       "    <tr>\n",
       "      <th>102654</th>\n",
       "      <td>43</td>\n",
       "      <td>1.655273</td>\n",
       "    </tr>\n",
       "    <tr>\n",
       "      <th>140624</th>\n",
       "      <td>43</td>\n",
       "      <td>0.610352</td>\n",
       "    </tr>\n",
       "    <tr>\n",
       "      <th>23612</th>\n",
       "      <td>50</td>\n",
       "      <td>5.432129</td>\n",
       "    </tr>\n",
       "    <tr>\n",
       "      <th>70556</th>\n",
       "      <td>22</td>\n",
       "      <td>3.981934</td>\n",
       "    </tr>\n",
       "    <tr>\n",
       "      <th>91606</th>\n",
       "      <td>53</td>\n",
       "      <td>2.617188</td>\n",
       "    </tr>\n",
       "  </tbody>\n",
       "</table>\n",
       "<p>5192400 rows × 2 columns</p>\n",
       "</div>"
      ],
      "text/plain": [
       "        size coordinates\n",
       "39282     44   -4.169922\n",
       "67386     22   -0.437012\n",
       "50205     44   -3.669434\n",
       "180851    39    6.359863\n",
       "189231    48   -1.025391\n",
       "...      ...         ...\n",
       "102654    43    1.655273\n",
       "140624    43    0.610352\n",
       "23612     50    5.432129\n",
       "70556     22    3.981934\n",
       "91606     53    2.617188\n",
       "\n",
       "[5192400 rows x 2 columns]"
      ]
     },
     "execution_count": 48,
     "metadata": {},
     "output_type": "execute_result"
    }
   ],
   "source": []
  },
  {
   "cell_type": "code",
   "execution_count": null,
   "id": "645f470e",
   "metadata": {},
   "outputs": [],
   "source": []
  },
  {
   "cell_type": "code",
   "execution_count": null,
   "id": "1245c373",
   "metadata": {},
   "outputs": [],
   "source": []
  },
  {
   "cell_type": "code",
   "execution_count": null,
   "id": "2ef9c238",
   "metadata": {},
   "outputs": [],
   "source": []
  },
  {
   "cell_type": "code",
   "execution_count": null,
   "id": "e9e7033d",
   "metadata": {},
   "outputs": [],
   "source": []
  },
  {
   "cell_type": "code",
   "execution_count": null,
   "id": "b1b5e16c",
   "metadata": {},
   "outputs": [],
   "source": []
  },
  {
   "cell_type": "code",
   "execution_count": null,
   "id": "f4846f2d",
   "metadata": {},
   "outputs": [],
   "source": []
  },
  {
   "cell_type": "code",
   "execution_count": null,
   "id": "338bcda4",
   "metadata": {},
   "outputs": [],
   "source": []
  },
  {
   "cell_type": "code",
   "execution_count": null,
   "id": "f8d44d33",
   "metadata": {},
   "outputs": [],
   "source": []
  }
 ],
 "metadata": {
  "kernelspec": {
   "display_name": "Python 3 (ipykernel)",
   "language": "python",
   "name": "python3"
  },
  "language_info": {
   "codemirror_mode": {
    "name": "ipython",
    "version": 3
   },
   "file_extension": ".py",
   "mimetype": "text/x-python",
   "name": "python",
   "nbconvert_exporter": "python",
   "pygments_lexer": "ipython3",
   "version": "3.9.13"
  }
 },
 "nbformat": 4,
 "nbformat_minor": 5
}
